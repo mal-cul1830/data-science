{
  "nbformat": 4,
  "nbformat_minor": 0,
  "metadata": {
    "colab": {
      "name": "taxdata",
      "provenance": [],
      "collapsed_sections": [],
      "authorship_tag": "ABX9TyOBWnqh0qFdpihkMbDVkFhi",
      "include_colab_link": true
    },
    "kernelspec": {
      "name": "python3",
      "display_name": "Python 3"
    }
  },
  "cells": [
    {
      "cell_type": "markdown",
      "metadata": {
        "id": "view-in-github",
        "colab_type": "text"
      },
      "source": [
        "<a href=\"https://colab.research.google.com/github/mal-cul1830/vincent-chase/blob/master/taxdata.ipynb\" target=\"_parent\"><img src=\"https://colab.research.google.com/assets/colab-badge.svg\" alt=\"Open In Colab\"/></a>"
      ]
    },
    {
      "cell_type": "code",
      "metadata": {
        "id": "tjqK0tSaVMwa",
        "colab_type": "code",
        "colab": {}
      },
      "source": [
        "import pandas as pd\n",
        "df = pd.read_csv('mixedData.csv',header = None, engine = 'python')"
      ],
      "execution_count": 311,
      "outputs": []
    },
    {
      "cell_type": "code",
      "metadata": {
        "id": "NjnuAQQPfntK",
        "colab_type": "code",
        "colab": {}
      },
      "source": [
        "import re\n",
        "import numpy"
      ],
      "execution_count": 312,
      "outputs": []
    },
    {
      "cell_type": "code",
      "metadata": {
        "id": "Oxa8NtUzVUgq",
        "colab_type": "code",
        "colab": {
          "base_uri": "https://localhost:8080/",
          "height": 204
        },
        "outputId": "d3cffe31-8f57-4bcf-cb7f-53d9f63b8506"
      },
      "source": [
        "df.head()"
      ],
      "execution_count": 313,
      "outputs": [
        {
          "output_type": "execute_result",
          "data": {
            "text/html": [
              "<div>\n",
              "<style scoped>\n",
              "    .dataframe tbody tr th:only-of-type {\n",
              "        vertical-align: middle;\n",
              "    }\n",
              "\n",
              "    .dataframe tbody tr th {\n",
              "        vertical-align: top;\n",
              "    }\n",
              "\n",
              "    .dataframe thead th {\n",
              "        text-align: right;\n",
              "    }\n",
              "</style>\n",
              "<table border=\"1\" class=\"dataframe\">\n",
              "  <thead>\n",
              "    <tr style=\"text-align: right;\">\n",
              "      <th></th>\n",
              "      <th>0</th>\n",
              "      <th>1</th>\n",
              "    </tr>\n",
              "  </thead>\n",
              "  <tbody>\n",
              "    <tr>\n",
              "      <th>0</th>\n",
              "      <td>NaN</td>\n",
              "      <td>slno;invoiceamt;regno;vehicleclass;taxAmt;TxnD...</td>\n",
              "    </tr>\n",
              "    <tr>\n",
              "      <th>1</th>\n",
              "      <td>0.0</td>\n",
              "      <td>403694;0;AP22AB9055MOTOR CYCLE;3630;1/4/2019;R...</td>\n",
              "    </tr>\n",
              "    <tr>\n",
              "      <th>2</th>\n",
              "      <td>1.0</td>\n",
              "      <td>423772;0;AP22AJ5656MOTOR CYCLE;3950;2/4/2019;R...</td>\n",
              "    </tr>\n",
              "    <tr>\n",
              "      <th>3</th>\n",
              "      <td>2.0</td>\n",
              "      <td>671362;0;AP22AB0387Vehicle Fitted with Constru...</td>\n",
              "    </tr>\n",
              "    <tr>\n",
              "      <th>4</th>\n",
              "      <td>3.0</td>\n",
              "      <td>434759;0;AP22M4984MOTOR CYCLE;3720;1/4/2019;RT...</td>\n",
              "    </tr>\n",
              "  </tbody>\n",
              "</table>\n",
              "</div>"
            ],
            "text/plain": [
              "     0                                                  1\n",
              "0  NaN  slno;invoiceamt;regno;vehicleclass;taxAmt;TxnD...\n",
              "1  0.0  403694;0;AP22AB9055MOTOR CYCLE;3630;1/4/2019;R...\n",
              "2  1.0  423772;0;AP22AJ5656MOTOR CYCLE;3950;2/4/2019;R...\n",
              "3  2.0  671362;0;AP22AB0387Vehicle Fitted with Constru...\n",
              "4  3.0  434759;0;AP22M4984MOTOR CYCLE;3720;1/4/2019;RT..."
            ]
          },
          "metadata": {
            "tags": []
          },
          "execution_count": 313
        }
      ]
    },
    {
      "cell_type": "code",
      "metadata": {
        "id": "K5W-H7nSnJvA",
        "colab_type": "code",
        "colab": {
          "base_uri": "https://localhost:8080/",
          "height": 34
        },
        "outputId": "2ba949ab-ff0d-4dc4-ac60-3d3eb49104a3"
      },
      "source": [
        "print(df.iloc[1,1])"
      ],
      "execution_count": 314,
      "outputs": [
        {
          "output_type": "stream",
          "text": [
            "403694;0;AP22AB9055MOTOR CYCLE;3630;1/4/2019;RTA MAHABOOBNAGAR\n"
          ],
          "name": "stdout"
        }
      ]
    },
    {
      "cell_type": "code",
      "metadata": {
        "id": "EkwaM4aDW9sb",
        "colab_type": "code",
        "colab": {}
      },
      "source": [
        "cols = str(df.iloc[0,1])\n",
        "cols = list(map(str,cols.split(';')))"
      ],
      "execution_count": 315,
      "outputs": []
    },
    {
      "cell_type": "code",
      "metadata": {
        "id": "HY_O-NXukKhV",
        "colab_type": "code",
        "colab": {
          "base_uri": "https://localhost:8080/",
          "height": 176
        },
        "outputId": "15462ae7-57ee-4251-c4e3-84957a16d587"
      },
      "source": [
        "for i in range(len(cols)):\n",
        "  if i not in range(len(df.columns)):\n",
        "    print('hello')\n",
        "    df[str(cols[i])] = pd.Series()"
      ],
      "execution_count": 316,
      "outputs": [
        {
          "output_type": "stream",
          "text": [
            "hello\n",
            "hello\n",
            "hello\n",
            "hello\n",
            "hello\n"
          ],
          "name": "stdout"
        },
        {
          "output_type": "stream",
          "text": [
            "/usr/local/lib/python3.6/dist-packages/ipykernel_launcher.py:4: DeprecationWarning: The default dtype for empty Series will be 'object' instead of 'float64' in a future version. Specify a dtype explicitly to silence this warning.\n",
            "  after removing the cwd from sys.path.\n"
          ],
          "name": "stderr"
        }
      ]
    },
    {
      "cell_type": "code",
      "metadata": {
        "id": "H0oyPlNvlAA3",
        "colab_type": "code",
        "colab": {}
      },
      "source": [
        "df.columns = cols"
      ],
      "execution_count": 317,
      "outputs": []
    },
    {
      "cell_type": "code",
      "metadata": {
        "id": "wxftAsWhYDjP",
        "colab_type": "code",
        "colab": {
          "base_uri": "https://localhost:8080/",
          "height": 235
        },
        "outputId": "c010f99a-24b4-471b-edf6-b401cb511e0d"
      },
      "source": [
        "for index,rows in df.iterrows():\n",
        "  if index ==0:\n",
        "    continue\n",
        "  df.loc[index] = [index]+list(re.split('[;,]',str(list(rows)[1])))\n",
        "  df.loc[index,'regno'],df.loc[index,'vehicleclass']= str(df.loc[index,'vehicleclass'])[0:10],str(df.loc[index,'vehicleclass'])[10:]\n",
        "df.drop(index=0,inplace = True)\n",
        "df.set_index('slno',inplace = True)\n",
        "df.head()"
      ],
      "execution_count": 318,
      "outputs": [
        {
          "output_type": "execute_result",
          "data": {
            "text/html": [
              "<div>\n",
              "<style scoped>\n",
              "    .dataframe tbody tr th:only-of-type {\n",
              "        vertical-align: middle;\n",
              "    }\n",
              "\n",
              "    .dataframe tbody tr th {\n",
              "        vertical-align: top;\n",
              "    }\n",
              "\n",
              "    .dataframe thead th {\n",
              "        text-align: right;\n",
              "    }\n",
              "</style>\n",
              "<table border=\"1\" class=\"dataframe\">\n",
              "  <thead>\n",
              "    <tr style=\"text-align: right;\">\n",
              "      <th></th>\n",
              "      <th>invoiceamt</th>\n",
              "      <th>regno</th>\n",
              "      <th>vehicleclass</th>\n",
              "      <th>taxAmt</th>\n",
              "      <th>TxnDate</th>\n",
              "      <th>Office</th>\n",
              "    </tr>\n",
              "    <tr>\n",
              "      <th>slno</th>\n",
              "      <th></th>\n",
              "      <th></th>\n",
              "      <th></th>\n",
              "      <th></th>\n",
              "      <th></th>\n",
              "      <th></th>\n",
              "    </tr>\n",
              "  </thead>\n",
              "  <tbody>\n",
              "    <tr>\n",
              "      <th>1.0</th>\n",
              "      <td>403694</td>\n",
              "      <td>AP22AB9055</td>\n",
              "      <td>MOTOR CYCLE</td>\n",
              "      <td>3630</td>\n",
              "      <td>1/4/2019</td>\n",
              "      <td>RTA MAHABOOBNAGAR</td>\n",
              "    </tr>\n",
              "    <tr>\n",
              "      <th>2.0</th>\n",
              "      <td>423772</td>\n",
              "      <td>AP22AJ5656</td>\n",
              "      <td>MOTOR CYCLE</td>\n",
              "      <td>3950</td>\n",
              "      <td>2/4/2019</td>\n",
              "      <td>RTA MAHABOOBNAGAR</td>\n",
              "    </tr>\n",
              "    <tr>\n",
              "      <th>3.0</th>\n",
              "      <td>671362</td>\n",
              "      <td>AP22AB0387</td>\n",
              "      <td>Vehicle Fitted with Construction Equipment</td>\n",
              "      <td>153000</td>\n",
              "      <td>2/4/2019</td>\n",
              "      <td>RTA MAHABOOBNAGAR</td>\n",
              "    </tr>\n",
              "    <tr>\n",
              "      <th>4.0</th>\n",
              "      <td>434759</td>\n",
              "      <td>AP22M4984M</td>\n",
              "      <td>OTOR CYCLE</td>\n",
              "      <td>3720</td>\n",
              "      <td>1/4/2019</td>\n",
              "      <td>RTA MAHABOOBNAGAR</td>\n",
              "    </tr>\n",
              "    <tr>\n",
              "      <th>5.0</th>\n",
              "      <td>683249</td>\n",
              "      <td>AP22AG9578</td>\n",
              "      <td>MOTOR CYCLE</td>\n",
              "      <td>3800</td>\n",
              "      <td>2/4/2019</td>\n",
              "      <td>RTA MAHABOOBNAGAR</td>\n",
              "    </tr>\n",
              "  </tbody>\n",
              "</table>\n",
              "</div>"
            ],
            "text/plain": [
              "     invoiceamt       regno  ...   TxnDate             Office\n",
              "slno                         ...                             \n",
              "1.0      403694  AP22AB9055  ...  1/4/2019  RTA MAHABOOBNAGAR\n",
              "2.0      423772  AP22AJ5656  ...  2/4/2019  RTA MAHABOOBNAGAR\n",
              "3.0      671362  AP22AB0387  ...  2/4/2019  RTA MAHABOOBNAGAR\n",
              "4.0      434759  AP22M4984M  ...  1/4/2019  RTA MAHABOOBNAGAR\n",
              "5.0      683249  AP22AG9578  ...  2/4/2019  RTA MAHABOOBNAGAR\n",
              "\n",
              "[5 rows x 6 columns]"
            ]
          },
          "metadata": {
            "tags": []
          },
          "execution_count": 318
        }
      ]
    },
    {
      "cell_type": "code",
      "metadata": {
        "id": "DouxRGqlzOg8",
        "colab_type": "code",
        "colab": {
          "base_uri": "https://localhost:8080/",
          "height": 136
        },
        "outputId": "e83212ba-dcf8-4c10-9413-c22866336351"
      },
      "source": [
        "conv_dict = {\n",
        "    'invoiceamt' : int,\n",
        "'regno':str,\n",
        "'vehicleclass':str,\n",
        "'taxAmt':float,\n",
        "'TxnDate':str,\n",
        "'Office':str\n",
        "}\n",
        "df = df.astype(conv_dict)\n",
        "df.dtypes"
      ],
      "execution_count": 319,
      "outputs": [
        {
          "output_type": "execute_result",
          "data": {
            "text/plain": [
              "invoiceamt        int64\n",
              "regno            object\n",
              "vehicleclass     object\n",
              "taxAmt          float64\n",
              "TxnDate          object\n",
              "Office           object\n",
              "dtype: object"
            ]
          },
          "metadata": {
            "tags": []
          },
          "execution_count": 319
        }
      ]
    },
    {
      "cell_type": "code",
      "metadata": {
        "id": "DHzBLmiTo9Na",
        "colab_type": "code",
        "colab": {
          "base_uri": "https://localhost:8080/",
          "height": 235
        },
        "outputId": "30143ea3-2a32-40ed-f292-bd45e979825f"
      },
      "source": [
        "df.head()"
      ],
      "execution_count": 320,
      "outputs": [
        {
          "output_type": "execute_result",
          "data": {
            "text/html": [
              "<div>\n",
              "<style scoped>\n",
              "    .dataframe tbody tr th:only-of-type {\n",
              "        vertical-align: middle;\n",
              "    }\n",
              "\n",
              "    .dataframe tbody tr th {\n",
              "        vertical-align: top;\n",
              "    }\n",
              "\n",
              "    .dataframe thead th {\n",
              "        text-align: right;\n",
              "    }\n",
              "</style>\n",
              "<table border=\"1\" class=\"dataframe\">\n",
              "  <thead>\n",
              "    <tr style=\"text-align: right;\">\n",
              "      <th></th>\n",
              "      <th>invoiceamt</th>\n",
              "      <th>regno</th>\n",
              "      <th>vehicleclass</th>\n",
              "      <th>taxAmt</th>\n",
              "      <th>TxnDate</th>\n",
              "      <th>Office</th>\n",
              "    </tr>\n",
              "    <tr>\n",
              "      <th>slno</th>\n",
              "      <th></th>\n",
              "      <th></th>\n",
              "      <th></th>\n",
              "      <th></th>\n",
              "      <th></th>\n",
              "      <th></th>\n",
              "    </tr>\n",
              "  </thead>\n",
              "  <tbody>\n",
              "    <tr>\n",
              "      <th>1.0</th>\n",
              "      <td>403694</td>\n",
              "      <td>AP22AB9055</td>\n",
              "      <td>MOTOR CYCLE</td>\n",
              "      <td>3630.0</td>\n",
              "      <td>1/4/2019</td>\n",
              "      <td>RTA MAHABOOBNAGAR</td>\n",
              "    </tr>\n",
              "    <tr>\n",
              "      <th>2.0</th>\n",
              "      <td>423772</td>\n",
              "      <td>AP22AJ5656</td>\n",
              "      <td>MOTOR CYCLE</td>\n",
              "      <td>3950.0</td>\n",
              "      <td>2/4/2019</td>\n",
              "      <td>RTA MAHABOOBNAGAR</td>\n",
              "    </tr>\n",
              "    <tr>\n",
              "      <th>3.0</th>\n",
              "      <td>671362</td>\n",
              "      <td>AP22AB0387</td>\n",
              "      <td>Vehicle Fitted with Construction Equipment</td>\n",
              "      <td>153000.0</td>\n",
              "      <td>2/4/2019</td>\n",
              "      <td>RTA MAHABOOBNAGAR</td>\n",
              "    </tr>\n",
              "    <tr>\n",
              "      <th>4.0</th>\n",
              "      <td>434759</td>\n",
              "      <td>AP22M4984M</td>\n",
              "      <td>OTOR CYCLE</td>\n",
              "      <td>3720.0</td>\n",
              "      <td>1/4/2019</td>\n",
              "      <td>RTA MAHABOOBNAGAR</td>\n",
              "    </tr>\n",
              "    <tr>\n",
              "      <th>5.0</th>\n",
              "      <td>683249</td>\n",
              "      <td>AP22AG9578</td>\n",
              "      <td>MOTOR CYCLE</td>\n",
              "      <td>3800.0</td>\n",
              "      <td>2/4/2019</td>\n",
              "      <td>RTA MAHABOOBNAGAR</td>\n",
              "    </tr>\n",
              "  </tbody>\n",
              "</table>\n",
              "</div>"
            ],
            "text/plain": [
              "      invoiceamt       regno  ...   TxnDate             Office\n",
              "slno                          ...                             \n",
              "1.0       403694  AP22AB9055  ...  1/4/2019  RTA MAHABOOBNAGAR\n",
              "2.0       423772  AP22AJ5656  ...  2/4/2019  RTA MAHABOOBNAGAR\n",
              "3.0       671362  AP22AB0387  ...  2/4/2019  RTA MAHABOOBNAGAR\n",
              "4.0       434759  AP22M4984M  ...  1/4/2019  RTA MAHABOOBNAGAR\n",
              "5.0       683249  AP22AG9578  ...  2/4/2019  RTA MAHABOOBNAGAR\n",
              "\n",
              "[5 rows x 6 columns]"
            ]
          },
          "metadata": {
            "tags": []
          },
          "execution_count": 320
        }
      ]
    },
    {
      "cell_type": "code",
      "metadata": {
        "id": "WLR7jCxXpcGN",
        "colab_type": "code",
        "colab": {}
      },
      "source": [
        "df_tax = pd.DataFrame()\n",
        "df_tax['Office'] = df['Office'].unique()"
      ],
      "execution_count": 321,
      "outputs": []
    },
    {
      "cell_type": "code",
      "metadata": {
        "id": "YMHXynn-cz_w",
        "colab_type": "code",
        "colab": {}
      },
      "source": [
        "percentage = []\n",
        "date = []\n",
        "for i in df_tax['Office']:\n",
        "  tax = df[df.Office == str(i)].taxAmt.sum()\n",
        "  invoice = df[df.Office == str(i)].invoiceamt.sum()\n",
        "  percentage.append(tax/invoice*100)\n",
        "  m = df[df.Office == str(i)].taxAmt.max()\n",
        "  date.append(df.loc[df.query(\"Office == '\"+str(i)+\"' and taxAmt == \"+str(m)).index[0],'TxnDate'])\n",
        "df_tax['Percentage'] = percentage\n",
        "df_tax['MaxTaxDate'] = date\n",
        "df_tax.set_index('Office',inplace = True)"
      ],
      "execution_count": 322,
      "outputs": []
    },
    {
      "cell_type": "code",
      "metadata": {
        "id": "hOAE4wy_8kUJ",
        "colab_type": "code",
        "colab": {
          "base_uri": "https://localhost:8080/",
          "height": 390
        },
        "outputId": "90c2b765-a5d2-4fab-8f5c-f41f3213fc21"
      },
      "source": [
        "df_tax.head(10)"
      ],
      "execution_count": 323,
      "outputs": [
        {
          "output_type": "execute_result",
          "data": {
            "text/html": [
              "<div>\n",
              "<style scoped>\n",
              "    .dataframe tbody tr th:only-of-type {\n",
              "        vertical-align: middle;\n",
              "    }\n",
              "\n",
              "    .dataframe tbody tr th {\n",
              "        vertical-align: top;\n",
              "    }\n",
              "\n",
              "    .dataframe thead th {\n",
              "        text-align: right;\n",
              "    }\n",
              "</style>\n",
              "<table border=\"1\" class=\"dataframe\">\n",
              "  <thead>\n",
              "    <tr style=\"text-align: right;\">\n",
              "      <th></th>\n",
              "      <th>Percentage</th>\n",
              "      <th>MaxTaxDate</th>\n",
              "    </tr>\n",
              "    <tr>\n",
              "      <th>Office</th>\n",
              "      <th></th>\n",
              "      <th></th>\n",
              "    </tr>\n",
              "  </thead>\n",
              "  <tbody>\n",
              "    <tr>\n",
              "      <th>RTA MAHABOOBNAGAR</th>\n",
              "      <td>0.288823</td>\n",
              "      <td>1/4/2019</td>\n",
              "    </tr>\n",
              "    <tr>\n",
              "      <th>RTA ADILABAD</th>\n",
              "      <td>0.324501</td>\n",
              "      <td>2/4/2019</td>\n",
              "    </tr>\n",
              "    <tr>\n",
              "      <th>RTA MEDCHAL</th>\n",
              "      <td>0.505130</td>\n",
              "      <td>2/4/2019</td>\n",
              "    </tr>\n",
              "    <tr>\n",
              "      <th>RTA NALGONDA</th>\n",
              "      <td>0.336192</td>\n",
              "      <td>2/4/2019</td>\n",
              "    </tr>\n",
              "    <tr>\n",
              "      <th>RTA RANGAREDDY</th>\n",
              "      <td>0.810503</td>\n",
              "      <td>1/4/2019</td>\n",
              "    </tr>\n",
              "    <tr>\n",
              "      <th>RTA KARIMNAGAR</th>\n",
              "      <td>0.351421</td>\n",
              "      <td>1/4/2019</td>\n",
              "    </tr>\n",
              "    <tr>\n",
              "      <th>RTA-HYDERABAD-EZ</th>\n",
              "      <td>0.662462</td>\n",
              "      <td>1/4/2019</td>\n",
              "    </tr>\n",
              "    <tr>\n",
              "      <th>RTA NIRMAL</th>\n",
              "      <td>0.572758</td>\n",
              "      <td>1/4/2019</td>\n",
              "    </tr>\n",
              "    <tr>\n",
              "      <th>RTA WARANGAL URBAN</th>\n",
              "      <td>0.544201</td>\n",
              "      <td>2/4/2019</td>\n",
              "    </tr>\n",
              "    <tr>\n",
              "      <th>RTA JAGITYAL</th>\n",
              "      <td>0.505486</td>\n",
              "      <td>2/4/2019</td>\n",
              "    </tr>\n",
              "  </tbody>\n",
              "</table>\n",
              "</div>"
            ],
            "text/plain": [
              "                    Percentage MaxTaxDate\n",
              "Office                                   \n",
              "RTA MAHABOOBNAGAR     0.288823   1/4/2019\n",
              "RTA ADILABAD          0.324501   2/4/2019\n",
              "RTA MEDCHAL           0.505130   2/4/2019\n",
              "RTA NALGONDA          0.336192   2/4/2019\n",
              "RTA RANGAREDDY        0.810503   1/4/2019\n",
              "RTA KARIMNAGAR        0.351421   1/4/2019\n",
              "RTA-HYDERABAD-EZ      0.662462   1/4/2019\n",
              "RTA NIRMAL            0.572758   1/4/2019\n",
              "RTA WARANGAL URBAN    0.544201   2/4/2019\n",
              "RTA JAGITYAL          0.505486   2/4/2019"
            ]
          },
          "metadata": {
            "tags": []
          },
          "execution_count": 323
        }
      ]
    },
    {
      "cell_type": "code",
      "metadata": {
        "id": "T8s6Edv3G3aU",
        "colab_type": "code",
        "colab": {}
      },
      "source": [
        ""
      ],
      "execution_count": 323,
      "outputs": []
    }
  ]
}